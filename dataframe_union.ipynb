{
 "cells": [
  {
   "cell_type": "code",
   "execution_count": 1,
   "metadata": {},
   "outputs": [],
   "source": [
    "import findspark\n",
    "import pyspark\n",
    "from pyspark.sql import Row\n",
    "from pyspark.sql.functions import first"
   ]
  },
  {
   "cell_type": "code",
   "execution_count": 2,
   "metadata": {},
   "outputs": [],
   "source": [
    "findspark.init()\n",
    "sc = pyspark.SparkContext(\"local\", \"Spark Dataframe Union\")"
   ]
  },
  {
   "cell_type": "code",
   "execution_count": 3,
   "metadata": {},
   "outputs": [],
   "source": [
    "sqlContext = pyspark.SQLContext(sc)"
   ]
  },
  {
   "cell_type": "code",
   "execution_count": 4,
   "metadata": {},
   "outputs": [],
   "source": [
    "def create_dataframe(l):\n",
    "    rdd = sc.parallelize(l)\n",
    "    maped = rdd.map(lambda x: Row(name=x[0], age=int(x[1])))\n",
    "    return sqlContext.createDataFrame(maped)"
   ]
  },
  {
   "cell_type": "code",
   "execution_count": 5,
   "metadata": {},
   "outputs": [],
   "source": [
    "l1 = [('Molly',23),('Claire',22),('Jenna',20),('Heather',26)]\n",
    "schemaGirls = create_dataframe(l1)"
   ]
  },
  {
   "cell_type": "code",
   "execution_count": 6,
   "metadata": {},
   "outputs": [
    {
     "name": "stdout",
     "output_type": "stream",
     "text": [
      "+-------+------------------+------+\n",
      "|summary|               age|  name|\n",
      "+-------+------------------+------+\n",
      "|  count|                 4|     4|\n",
      "|   mean|             22.75|  null|\n",
      "| stddev|2.4999999999999996|  null|\n",
      "|    min|                20|Claire|\n",
      "|    max|                26| Molly|\n",
      "+-------+------------------+------+\n",
      "\n",
      "root\n",
      " |-- age: long (nullable = true)\n",
      " |-- name: string (nullable = true)\n",
      "\n",
      "+---+-------+\n",
      "|age|   name|\n",
      "+---+-------+\n",
      "| 23|  Molly|\n",
      "| 22| Claire|\n",
      "| 20|  Jenna|\n",
      "| 26|Heather|\n",
      "+---+-------+\n",
      "\n"
     ]
    }
   ],
   "source": [
    "schemaGirls.describe().show()\n",
    "schemaGirls.printSchema()\n",
    "schemaGirls.show()"
   ]
  },
  {
   "cell_type": "code",
   "execution_count": 7,
   "metadata": {},
   "outputs": [],
   "source": [
    "l2 = [('Maxwell',25),('Connor',23),('Jake',21),('Hunter',27)]\n",
    "schemaBoys = create_dataframe(l2)"
   ]
  },
  {
   "cell_type": "code",
   "execution_count": 8,
   "metadata": {},
   "outputs": [
    {
     "name": "stdout",
     "output_type": "stream",
     "text": [
      "+-------+-----------------+-------+\n",
      "|summary|              age|   name|\n",
      "+-------+-----------------+-------+\n",
      "|  count|                4|      4|\n",
      "|   mean|             24.0|   null|\n",
      "| stddev|2.581988897471611|   null|\n",
      "|    min|               21| Connor|\n",
      "|    max|               27|Maxwell|\n",
      "+-------+-----------------+-------+\n",
      "\n",
      "root\n",
      " |-- age: long (nullable = true)\n",
      " |-- name: string (nullable = true)\n",
      "\n",
      "+---+-------+\n",
      "|age|   name|\n",
      "+---+-------+\n",
      "| 25|Maxwell|\n",
      "| 23| Connor|\n",
      "| 21|   Jake|\n",
      "| 27| Hunter|\n",
      "+---+-------+\n",
      "\n"
     ]
    }
   ],
   "source": [
    "schemaBoys.describe().show()\n",
    "schemaBoys.printSchema()\n",
    "schemaBoys.show()"
   ]
  },
  {
   "cell_type": "code",
   "execution_count": 9,
   "metadata": {},
   "outputs": [],
   "source": [
    "allPeople = schemaGirls.union(schemaBoys)"
   ]
  },
  {
   "cell_type": "code",
   "execution_count": 10,
   "metadata": {},
   "outputs": [
    {
     "name": "stdout",
     "output_type": "stream",
     "text": [
      "+-------+-----------------+------+\n",
      "|summary|              age|  name|\n",
      "+-------+-----------------+------+\n",
      "|  count|                8|     8|\n",
      "|   mean|           23.375|  null|\n",
      "| stddev|2.445841952609133|  null|\n",
      "|    min|               20|Claire|\n",
      "|    max|               27| Molly|\n",
      "+-------+-----------------+------+\n",
      "\n",
      "root\n",
      " |-- age: long (nullable = true)\n",
      " |-- name: string (nullable = true)\n",
      "\n",
      "+---+-------+\n",
      "|age|   name|\n",
      "+---+-------+\n",
      "| 23|  Molly|\n",
      "| 22| Claire|\n",
      "| 20|  Jenna|\n",
      "| 26|Heather|\n",
      "| 25|Maxwell|\n",
      "| 23| Connor|\n",
      "| 21|   Jake|\n",
      "| 27| Hunter|\n",
      "+---+-------+\n",
      "\n"
     ]
    }
   ],
   "source": [
    "allPeople.describe().show()\n",
    "allPeople.printSchema()\n",
    "allPeople.show()"
   ]
  },
  {
   "cell_type": "code",
   "execution_count": 11,
   "metadata": {},
   "outputs": [
    {
     "name": "stdout",
     "output_type": "stream",
     "text": [
      "+-------+\n",
      "|   name|\n",
      "+-------+\n",
      "|  Molly|\n",
      "| Claire|\n",
      "|  Jenna|\n",
      "|Heather|\n",
      "|Maxwell|\n",
      "+-------+\n",
      "only showing top 5 rows\n",
      "\n"
     ]
    }
   ],
   "source": [
    "allPeople.select('name').show(5)"
   ]
  },
  {
   "cell_type": "code",
   "execution_count": 12,
   "metadata": {},
   "outputs": [
    {
     "data": {
      "text/plain": [
       "(8, 7)"
      ]
     },
     "execution_count": 12,
     "metadata": {},
     "output_type": "execute_result"
    }
   ],
   "source": [
    "allPeople.select('age').count(), allPeople.select('age').distinct().count()"
   ]
  },
  {
   "cell_type": "code",
   "execution_count": 13,
   "metadata": {},
   "outputs": [
    {
     "name": "stdout",
     "output_type": "stream",
     "text": [
      "+---+-------+\n",
      "|age|   name|\n",
      "+---+-------+\n",
      "| 20|  Jenna|\n",
      "| 21|   Jake|\n",
      "| 22| Claire|\n",
      "| 23| Connor|\n",
      "| 23|  Molly|\n",
      "| 25|Maxwell|\n",
      "| 26|Heather|\n",
      "| 27| Hunter|\n",
      "+---+-------+\n",
      "\n"
     ]
    }
   ],
   "source": [
    "allPeople.orderBy('age', 'name').show()"
   ]
  },
  {
   "cell_type": "code",
   "execution_count": 14,
   "metadata": {},
   "outputs": [
    {
     "name": "stdout",
     "output_type": "stream",
     "text": [
      "+---+-----------+\n",
      "|age|count(name)|\n",
      "+---+-----------+\n",
      "| 26|          1|\n",
      "| 22|          1|\n",
      "| 25|          1|\n",
      "| 27|          1|\n",
      "| 21|          1|\n",
      "| 23|          2|\n",
      "| 20|          1|\n",
      "+---+-----------+\n",
      "\n"
     ]
    }
   ],
   "source": [
    "allPeople.registerTempTable('all_people_table')\n",
    "sqlContext.sql('select age, count(name) from all_people_table group by age').show()"
   ]
  }
 ],
 "metadata": {
  "kernelspec": {
   "display_name": "Python 3",
   "language": "python",
   "name": "python3"
  },
  "language_info": {
   "codemirror_mode": {
    "name": "ipython",
    "version": 3
   },
   "file_extension": ".py",
   "mimetype": "text/x-python",
   "name": "python",
   "nbconvert_exporter": "python",
   "pygments_lexer": "ipython3",
   "version": "3.6.8"
  }
 },
 "nbformat": 4,
 "nbformat_minor": 2
}
